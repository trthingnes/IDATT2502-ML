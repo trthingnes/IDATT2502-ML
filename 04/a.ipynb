{
 "cells": [
  {
   "cell_type": "code",
   "execution_count": 2,
   "metadata": {
    "collapsed": true,
    "pycharm": {
     "name": "#%%\n"
    }
   },
   "outputs": [],
   "source": [
    "import torch\n",
    "import torch.nn as nn\n",
    "import numpy as np\n",
    "\n",
    "\n",
    "class LongShortTermMemoryModel(nn.Module):\n",
    "    def __init__(self, encoding_size):\n",
    "        super(LongShortTermMemoryModel, self).__init__()\n",
    "\n",
    "        self.state_size = 128\n",
    "        self.lstm = nn.LSTM(encoding_size, self.state_size)\n",
    "        self.dense = nn.Linear(self.state_size, encoding_size)\n",
    "\n",
    "        self.zero_state = torch.zeros(1, 1, self.state_size)  # Shape: (number of layers, batch size, state size)\n",
    "        self.hidden_state = self.zero_state\n",
    "        self.cell_state = self.zero_state\n",
    "\n",
    "    def reset(self):\n",
    "        \"\"\"Reset states prior to new input sequence\"\"\"\n",
    "        self.hidden_state = self.zero_state\n",
    "        self.cell_state = self.zero_state\n",
    "\n",
    "    def logits(self, x):\n",
    "        \"\"\"x = (sequence length, batch size, encoding size)\"\"\"\n",
    "        out, (self.hidden_state, self.cell_state) = self.lstm(x, (self.hidden_state, self.cell_state))\n",
    "        return self.dense(out.reshape(-1, self.state_size))\n",
    "\n",
    "    def f(self, x):\n",
    "        \"\"\"x = (sequence length, batch size, encoding size)\"\"\"\n",
    "        return torch.softmax(self.logits(x), dim=1)\n",
    "\n",
    "    def loss(self, x, y):\n",
    "        \"\"\"x = (sequence length, batch size, encoding size), y = (sequence length, encoding size)\"\"\"\n",
    "        return nn.functional.cross_entropy(self.logits(x), y.argmax(1))\n"
   ]
  },
  {
   "cell_type": "code",
   "execution_count": 34,
   "outputs": [
    {
     "name": "stdout",
     "output_type": "stream",
     "text": [
      " hllloooorllll  lllll  llll  llll  llll  llll  llll  \n",
      " hlllo worlld   rddd   dddd   ddd    ddd   ddd    dd \n",
      " hlllo world  wrrdd  wrrdd  wrrdd  wrrdd  wrrdd  wrrd\n",
      " hello world  wrrd  wordd  wrrdd  wrld  wrrdd  wrrd  \n",
      " hello world  wrrd  world  wrrdd world  wrrld world  \n",
      " hello world  wrrd  world  wrrdd world  wrrld world  \n",
      " hello world world  wrrld world  wrrld world  wrrld w\n",
      " hello world world  wrrld world  wrrld world  wrrld w\n",
      " hello world world  wrrld world world  wrrld world  w\n",
      " hello world world wwrrd  world world  wrrld world wo\n",
      " hello world world world  wrrld world world  wrrld wo\n",
      " hello world world world  wrrld world world  wrrld wo\n",
      " hello world world world wwrrld world world wwrrld wo\n",
      " hello world world world wwrld  world world world  wr\n",
      " hello world world world world  wrrld world world wor\n",
      " hello world world world world  wrrld world world wor\n",
      " hello world world world world wwrrld world world wor\n",
      " hello world world world world world  world world wor\n",
      " hello world world world world world  wrrld world wor\n",
      " hello world world world world world wwrlld world wor\n",
      " hello world world world world world world  world wor\n",
      " hello world world world world world world wwrlld wor\n",
      " hello world world world world world world world  wrr\n",
      " hello world world world world world world world worl\n",
      " hello world world world world world world world worl\n",
      " hello world world world world world world world worl\n",
      " hello world world world world world world world worl\n",
      " hello world world world world world world world worl\n",
      " hello world world world world world world world worl\n",
      " hello world world world world world world world worl\n",
      " hello world world world world world world world worl\n",
      " hello world world world world world world world worl\n",
      " hello world world world world world world world worl\n",
      " hello world world world world world world world worl\n",
      " hello world world world world world world world worl\n",
      " hello world world world world world world world worl\n",
      " hello world world world world world world world worl\n",
      " hello world world world world world world world worl\n",
      " hello world world world world world world world worl\n",
      " hello world world world world world world world worl\n",
      " hello world world world world world world world worl\n",
      " hello world world world world world world world worl\n",
      " hello world world world world world world world worl\n",
      " hello world world world world world world world worl\n",
      " hello world world world world world world world worl\n",
      " hello world world world world world world world worl\n",
      " hello world world world world world world world worl\n",
      " hello world world world world world world world worl\n",
      " hello world world world world world world world worl\n",
      " hello world world world world world world world worl\n"
     ]
    }
   ],
   "source": [
    "chars = [\" \", \"h\", \"e\", \"l\", \"o\", \"w\", \"r\", \"d\"]\n",
    "char_count = len(chars)\n",
    "char_codes = np.identity(char_count).tolist()\n",
    "\n",
    "def code_char(character, wrap):\n",
    "    if wrap:\n",
    "        return [char_codes[chars.index(character)]]\n",
    "    else:\n",
    "        return char_codes[chars.index(character)]\n",
    "\n",
    "def code(string, wrap=False):\n",
    "    return [code_char(char, wrap) for char in string]\n",
    "\n",
    "x_train = torch.tensor(code(\" hello world\", wrap=True))\n",
    "y_train = torch.tensor(code(\"hello world \"))\n",
    "\n",
    "model = LongShortTermMemoryModel(encoding_size=char_count)\n",
    "optimizer = torch.optim.RMSprop(model.parameters(), 0.001)\n",
    "\n",
    "for epoch in range(500):\n",
    "    model.reset()\n",
    "    model.loss(x_train, y_train).backward()\n",
    "    optimizer.step()\n",
    "    optimizer.zero_grad()\n",
    "\n",
    "    if epoch % 10 == 9:\n",
    "        # Generate characters from the initial characters ' h'\n",
    "        model.reset()\n",
    "        text = ' h'\n",
    "        model.f(torch.tensor([[char_codes[0]]]))\n",
    "        y = model.f(torch.tensor([[char_codes[1]]]))\n",
    "        text += chars[y.argmax(1)]\n",
    "        for c in range(50):\n",
    "            y = model.f(torch.tensor([[char_codes[y.argmax(1)]]]))\n",
    "            text += chars[y.argmax(1)]\n",
    "        print(text)\n"
   ],
   "metadata": {
    "collapsed": false,
    "pycharm": {
     "name": "#%%\n"
    }
   }
  },
  {
   "cell_type": "code",
   "execution_count": 35,
   "outputs": [
    {
     "name": "stdout",
     "output_type": "stream",
     "text": [
      " hello world world world world world world world world world world world world world world world world \n"
     ]
    }
   ],
   "source": [
    "for c in range(50):\n",
    "    y = model.f(torch.tensor([[char_codes[y.argmax(1)]]]))\n",
    "    text += chars[y.argmax(1)]\n",
    "print(text)\n"
   ],
   "metadata": {
    "collapsed": false,
    "pycharm": {
     "name": "#%%\n"
    }
   }
  }
 ],
 "metadata": {
  "kernelspec": {
   "display_name": "Python 3",
   "language": "python",
   "name": "python3"
  },
  "language_info": {
   "codemirror_mode": {
    "name": "ipython",
    "version": 2
   },
   "file_extension": ".py",
   "mimetype": "text/x-python",
   "name": "python",
   "nbconvert_exporter": "python",
   "pygments_lexer": "ipython2",
   "version": "2.7.6"
  }
 },
 "nbformat": 4,
 "nbformat_minor": 0
}