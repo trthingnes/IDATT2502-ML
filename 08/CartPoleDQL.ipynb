{
 "cells": [
  {
   "cell_type": "code",
   "execution_count": null,
   "metadata": {},
   "outputs": [],
   "source": [
    "import gym\n",
    "import math\n",
    "import random\n",
    "import torch\n",
    "import torch.nn as nn\n",
    "import torch.optim as optim\n",
    "import torch.nn.functional as F\n",
    "import numpy as np\n",
    "import matplotlib.pyplot as plt\n",
    "\n",
    "# https://pytorch.org/tutorials/intermediate/reinforcement_q_learning.html"
   ]
  },
  {
   "cell_type": "code",
   "execution_count": null,
   "metadata": {},
   "outputs": [],
   "source": [
    "class ReplayMemory():\n",
    "    def __init__(self):\n",
    "        self.memory = []\n",
    "\n",
    "    def record(self, obs, action, next_obs, reward):\n",
    "        \"\"\"Records a memory into the replay memory\"\"\"\n",
    "        self.memory.append((obs, action, next_obs, reward))\n",
    "\n",
    "    def sample(self, n):\n",
    "        \"\"\"Returns n random samples from the replay memory.\"\"\"\n",
    "        return random.sample(self.memory, n)"
   ]
  },
  {
   "cell_type": "code",
   "execution_count": null,
   "metadata": {},
   "outputs": [],
   "source": [
    "class DQN(nn.Module):\n",
    "    def __init__(self, height, width, outputs):\n",
    "        super(DQN, self).__init__()\n",
    "        self.conv1 = nn.Conv2d(3, 16, kernel_size=5, stride=2)  # Same kind of layer used in exercise 3 (CNN).\n",
    "        self.bn1 = nn.BatchNorm2d(16)  # Normalizes a 4D input.\n",
    "        self.conv2 = nn.Conv2d(16, 32, kernel_size=5, stride=2)\n",
    "        self.bn2 = nn.BatchNorm2d(32)\n",
    "        self.conv3 = nn.Conv2d(32, 32, kernel_size=5, stride=2)\n",
    "        self.bn3 = nn.BatchNorm2d(32)\n",
    "        \n",
    "        conv2d_output_size = lambda size, kernel, stride: (size - (kernel - 1) - 1) // stride + 1\n",
    "        conv_h = conv2d_output_size(conv2d_output_size(conv2d_output_size(height)))\n",
    "        conv_w = conv2d_output_size(conv2d_output_size(conv2d_output_size(width)))\n",
    "        self.head = nn.Linear(conv_h * conv_w * 32, outputs)\n",
    "    \n",
    "    def conv2d_output_size(size, kernel_size=5, stride=2):\n",
    "        return \n",
    "\n",
    "    def forward(self, input):\n",
    "        data = F.relu(self.bn1(self.conv1(input)))\n",
    "        data = F.relu(self.bn2(self.conv2(data)))\n",
    "        data = F.relu(self.bn3(self.conv3(data)))\n",
    "\n",
    "        return self.head(data.view(data.size(0), -1))"
   ]
  }
 ],
 "metadata": {
  "kernelspec": {
   "display_name": "Python 3.9.1 64-bit",
   "language": "python",
   "name": "python3"
  },
  "language_info": {
   "codemirror_mode": {
    "name": "ipython",
    "version": 2
   },
   "file_extension": ".py",
   "mimetype": "text/x-python",
   "name": "python",
   "nbconvert_exporter": "python",
   "pygments_lexer": "ipython2",
   "version": "3.9.1"
  },
  "vscode": {
   "interpreter": {
    "hash": "11938c6bc6919ae2720b4d5011047913343b08a43b18698fd82dedb0d4417594"
   }
  }
 },
 "nbformat": 4,
 "nbformat_minor": 0
}
