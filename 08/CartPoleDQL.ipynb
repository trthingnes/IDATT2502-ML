{
 "cells": [
  {
   "cell_type": "code",
   "execution_count": 9,
   "metadata": {},
   "outputs": [],
   "source": [
    "# DQL using tutorial from PyTorch: https://pytorch.org/tutorials/intermediate/reinforcement_q_learning.html (Do not use)\n",
    "# Hours wasted here: 20. Use nn.Linear with output data from env instead of images.\n",
    "# Data from env -> Linear -> ReLU * n. Output will be actions.\n",
    "\n",
    "import gym\n",
    "import math\n",
    "import random\n",
    "import torch\n",
    "import torch.nn as nn\n",
    "import torch.optim as optim\n",
    "import torch.nn.functional as f\n",
    "import torchvision.transforms as t\n",
    "import numpy as np\n",
    "import matplotlib.pyplot as plt\n",
    "from collections import namedtuple\n",
    "from itertools import count"
   ]
  },
  {
   "cell_type": "code",
   "execution_count": 10,
   "metadata": {},
   "outputs": [],
   "source": [
    "Transition = namedtuple('Transition', ('state', 'action', 'next_state', 'reward'))\n",
    "\n",
    "class ReplayMemory:\n",
    "    def __init__(self):\n",
    "        self.memory = []\n",
    "\n",
    "    def record(self, *args):\n",
    "        \"\"\"Records a memory into the replay memory.\"\"\"\n",
    "        self.memory.append(Transition(*args))\n",
    "\n",
    "    def sample(self, n):\n",
    "        \"\"\"Returns n random samples from the replay memory.\"\"\"\n",
    "        return random.sample(self.memory, n)\n",
    "\n",
    "    def __len__(self):\n",
    "        return len(self.memory)"
   ]
  },
  {
   "cell_type": "code",
   "execution_count": 11,
   "metadata": {},
   "outputs": [],
   "source": [
    "class DQN(nn.Module):\n",
    "    def __init__(self, height, width, outputs):\n",
    "        super(DQN, self).__init__()\n",
    "        self.conv1 = nn.Conv2d(3, 16, kernel_size=5, stride=2)  # Same kind of layer used in exercise 3 (CNN).\n",
    "        self.bn1 = nn.BatchNorm2d(16)  # Normalizes a 4D input.\n",
    "        self.conv2 = nn.Conv2d(16, 32, kernel_size=5, stride=2)\n",
    "        self.bn2 = nn.BatchNorm2d(32)\n",
    "        self.conv3 = nn.Conv2d(32, 32, kernel_size=5, stride=2)\n",
    "        self.bn3 = nn.BatchNorm2d(32)\n",
    "        \n",
    "        conv2d_output_size = lambda size, kernel=5, stride=2: (size - (kernel - 1) - 1) // stride + 1\n",
    "        conv_h = conv2d_output_size(conv2d_output_size(conv2d_output_size(height)))\n",
    "        conv_w = conv2d_output_size(conv2d_output_size(conv2d_output_size(width)))\n",
    "        self.head = nn.Linear(conv_h * conv_w * 32, outputs)\n",
    "\n",
    "    def forward(self, v):\n",
    "        data = f.relu(self.bn1(self.conv1(v)))\n",
    "        data = f.relu(self.bn2(self.conv2(data)))\n",
    "        data = f.relu(self.bn3(self.conv3(data)))\n",
    "\n",
    "        return self.head(data.view(data.size(0), -1))"
   ]
  },
  {
   "cell_type": "code",
   "execution_count": 12,
   "outputs": [],
   "source": [
    "class ImageExtractor:\n",
    "    def __init__(self, env):\n",
    "        self.env = env\n",
    "        self.resize = t.Compose([t.ToPILImage(), t.Resize(40, interpolation=t.InterpolationMode.BOX), t.ToTensor()])\n",
    "        env.reset()\n",
    "\n",
    "    def get_cart_location(self, screen_width):\n",
    "        world_width = self.env.x_threshold * 2\n",
    "        scale = screen_width / world_width\n",
    "        return int(self.env.state[0] * scale + screen_width / 2.)\n",
    "\n",
    "    def get_screen(self):\n",
    "        screen = self.env.render().transpose((2, 0, 1))\n",
    "        _, screen_height, screen_width = screen.shape\n",
    "\n",
    "        screen = screen[:, int(screen_height * 0.4) : int(screen_height * 0.8)]\n",
    "        view_width = int(screen_width * 0.6)\n",
    "        cart_location = self.get_cart_location(screen_width)\n",
    "\n",
    "        if cart_location < view_width // 2:\n",
    "            slice_range = slice(view_width)\n",
    "        elif cart_location > (screen_width - view_width // 2):\n",
    "            slice_range = slice(-view_width, None)\n",
    "        else:\n",
    "            slice_range = slice(cart_location - view_width // 2, cart_location + view_width // 2)\n",
    "\n",
    "        screen = screen[:, :, slice_range]\n",
    "        screen = np.ascontiguousarray(screen, dtype=np.float32) / 255\n",
    "        screen = torch.from_numpy(screen)\n",
    "\n",
    "        return self.resize(screen).unsqueeze(0)"
   ],
   "metadata": {
    "collapsed": false
   }
  },
  {
   "cell_type": "code",
   "execution_count": 13,
   "outputs": [
    {
     "data": {
      "text/plain": "<Figure size 640x480 with 1 Axes>",
      "image/png": "[encoded data removed]"
     },
     "metadata": {},
     "output_type": "display_data"
    }
   ],
   "source": [
    "env = gym.make(\"CartPole-v1\", render_mode=\"rgb_array\").unwrapped\n",
    "env.action_space.seed(42)\n",
    "\n",
    "ie = ImageExtractor(env)\n",
    "plt.figure()\n",
    "plt.imshow(ie.get_screen().squeeze(0).permute(1, 2, 0).numpy(), interpolation=\"none\")\n",
    "plt.show()"
   ],
   "metadata": {
    "collapsed": false
   }
  },
  {
   "cell_type": "code",
   "execution_count": 14,
   "outputs": [],
   "source": [
    "class DeepQLearningCartPole:\n",
    "    def __init__(self, episodes=50):\n",
    "        self.batch_size = 128\n",
    "        self.gamma = 0.999\n",
    "        self.eps_max = 0.9\n",
    "        self.eps_min = 0.05\n",
    "        self.eps_decay = 200\n",
    "        self.target_update = 10\n",
    "        self.episodes = episodes\n",
    "\n",
    "        self.env = gym.make(\"CartPole-v1\", render_mode=\"rgb_array\").unwrapped\n",
    "        env.action_space.seed(42)\n",
    "        self.actions = self.env.action_space.n\n",
    "        self.ie = ImageExtractor(env)\n",
    "        self.memory = ReplayMemory()\n",
    "\n",
    "        _, _, screen_height, screen_width = self.ie.get_screen().shape\n",
    "        self.policy_net = DQN(screen_height, screen_width, self.actions)\n",
    "        self.target_net = DQN(screen_height, screen_width, self.actions)\n",
    "        self.target_net.load_state_dict(self.policy_net.state_dict())\n",
    "        self.target_net.eval()\n",
    "\n",
    "        self.optimizer = optim.RMSprop(self.policy_net.parameters())\n",
    "        self.steps_done = 0\n",
    "        self.episode_durations = []\n",
    "\n",
    "    def pick_action(self, state):\n",
    "        eps_threshold = self.eps_min + (self.eps_max - self.eps_min) * math.exp(-1 * self.steps_done / self.eps_decay)\n",
    "        self.steps_done += 1\n",
    "\n",
    "        if random.random() > eps_threshold:\n",
    "            with torch.no_grad():\n",
    "                # Return the index of the max column element in each row / the action with the larger expected reward.\n",
    "                return self.policy_net(state).max(1)[1].view(1, 1)\n",
    "        else:\n",
    "            return torch.tensor([[random.randrange(self.actions)]], dtype=torch.long)\n",
    "\n",
    "    def optimize(self):\n",
    "        if len(self.memory) < self.batch_size:\n",
    "            return\n",
    "\n",
    "        transitions = self.memory.sample(self.batch_size)\n",
    "        batch = Transition(*zip(*transitions))\n",
    "\n",
    "        non_final_mask = torch.tensor(tuple(map(lambda s: s is not None, batch.next_state)), dtype=torch.bool)\n",
    "        non_final_next_states = torch.cat([s for s in batch.next_state if s is not None])\n",
    "\n",
    "        state_batch = torch.cat(batch.state)\n",
    "        action_batch = torch.cat(batch.action)\n",
    "        reward_batch = torch.cat(batch.reward)\n",
    "\n",
    "        # Q(s, a)\n",
    "        state_action_values = self.policy_net(state_batch).gather(1, action_batch)\n",
    "\n",
    "        # V(s_t+1) for the next possible states\n",
    "        next_state_values = torch.zeros(self.batch_size)\n",
    "        next_state_values[non_final_mask] = self.target_net(non_final_next_states).max(1)[0].detach()\n",
    "        expected_state_action_values = (next_state_values * self.gamma) + reward_batch\n",
    "\n",
    "        # Huber loss for smaller values\n",
    "        criterion = nn.SmoothL1Loss()\n",
    "        loss = criterion(state_action_values, expected_state_action_values.unsqueeze(1))\n",
    "\n",
    "        # Optimize the model\n",
    "        self.optimizer.zero_grad()\n",
    "        loss.backward()\n",
    "        for param in self.policy_net.parameters():\n",
    "            param.grad.data.clamp_(-1, 1)\n",
    "        self.optimizer.step()\n",
    "\n",
    "    def train(self):\n",
    "        for i_episode in range(self.episodes):\n",
    "            # Initialize the environment and state\n",
    "            env.reset()\n",
    "\n",
    "            last_screen = self.ie.get_screen()\n",
    "            current_screen = self.ie.get_screen()\n",
    "            state = current_screen - last_screen\n",
    "            for t in count():\n",
    "                # Select and perform an action\n",
    "                action = self.pick_action(state)\n",
    "                _, reward, done, _, _ = env.step(action.item())\n",
    "                reward = torch.tensor([reward])\n",
    "\n",
    "                # Observe new state\n",
    "                last_screen = current_screen\n",
    "                current_screen = self.ie.get_screen()\n",
    "\n",
    "                if not done:\n",
    "                    next_state = current_screen - last_screen\n",
    "                else:\n",
    "                    next_state = None\n",
    "\n",
    "                # Store the transition in memory\n",
    "                self.memory.record(state, action, next_state, reward)\n",
    "\n",
    "                # Move to the next state\n",
    "                state = next_state\n",
    "\n",
    "                # Perform one step of the optimization (on the policy network)\n",
    "                self.optimize()\n",
    "                if done:\n",
    "                    self.episode_durations.append(t + 1)\n",
    "                    break\n",
    "\n",
    "            # Update the target network, copying all weights and biases in DQN\n",
    "            if i_episode % self.target_update == 0:\n",
    "                print(f\"Updating target network ({i_episode}/{self.episodes})\")\n",
    "                self.target_net.load_state_dict(self.policy_net.state_dict())\n",
    "\n",
    "        env.render()\n",
    "        env.close()"
   ],
   "metadata": {
    "collapsed": false
   }
  },
  {
   "cell_type": "code",
   "execution_count": 15,
   "outputs": [],
   "source": [
    "def plot_durations(episode_durations):\n",
    "    plt.figure()\n",
    "    durations_t = torch.tensor(episode_durations, dtype=torch.float)\n",
    "    plt.title('Episode durations')\n",
    "    plt.xlabel('Episode')\n",
    "    plt.ylabel('Duration')\n",
    "    plt.plot(durations_t.numpy())\n",
    "    plt.show()"
   ],
   "metadata": {
    "collapsed": false
   }
  },
  {
   "cell_type": "code",
   "execution_count": 16,
   "outputs": [
    {
     "name": "stdout",
     "output_type": "stream",
     "text": [
      "Updating target network (0/50)\n",
      "Updating target network (10/50)\n",
      "Updating target network (20/50)\n",
      "Updating target network (30/50)\n",
      "Updating target network (40/50)\n"
     ]
    },
    {
     "data": {
      "text/plain": "<Figure size 640x480 with 1 Axes>",
      "image/png": "[encoded data removed]"
     },
     "metadata": {},
     "output_type": "display_data"
    }
   ],
   "source": [
    "dql = DeepQLearningCartPole()\n",
    "dql.train()\n",
    "plot_durations(dql.episode_durations)\n"
   ],
   "metadata": {
    "collapsed": false
   }
  }
 ],
 "metadata": {
  "kernelspec": {
   "display_name": "Python 3.9.1 64-bit",
   "language": "python",
   "name": "python3"
  },
  "language_info": {
   "codemirror_mode": {
    "name": "ipython",
    "version": 2
   },
   "file_extension": ".py",
   "mimetype": "text/x-python",
   "name": "python",
   "nbconvert_exporter": "python",
   "pygments_lexer": "ipython2",
   "version": "3.9.1"
  },
  "vscode": {
   "interpreter": {
    "hash": "11938c6bc6919ae2720b4d5011047913343b08a43b18698fd82dedb0d4417594"
   }
  }
 },
 "nbformat": 4,
 "nbformat_minor": 0
}
