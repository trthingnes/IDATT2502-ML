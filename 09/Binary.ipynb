{
 "cells": [
  {
   "cell_type": "code",
   "execution_count": 2,
   "metadata": {},
   "outputs": [],
   "source": [
    "from random import random, sample, randint"
   ]
  },
  {
   "cell_type": "code",
   "execution_count": 77,
   "metadata": {},
   "outputs": [
    {
     "name": "stdout",
     "output_type": "stream",
     "text": [
      "Trying numbers between 0 and 1024 (11 bits).\n",
      "We are looking for 925 (0b1110011101).\n",
      "Generation size is 20.\n",
      "Step 1: best fitness = -179\n",
      "Step 2: best fitness = -11\n",
      "Step 3: best fitness = -11\n",
      "Step 4: best fitness = -1\n",
      "Step 5: best fitness = -1\n",
      "Step 6: best fitness = -1\n",
      "Step 7: best fitness = -1\n",
      "Step 8: best fitness = -1\n",
      "Step 9: best fitness = -1\n",
      "Step 10: best fitness = -1\n",
      "925 => 01110011101 was found after 10 steps.\n"
     ]
    }
   ],
   "source": [
    "class BinaryEvolution:\n",
    "    def __init__(self, number_range=(0, 1024), mutate_rate=3/4, max_flip_rate=1/4, gen_survival_range=(1/4, 1/2), gen_size=20):\n",
    "        self.min, self.max = number_range\n",
    "        self.n_bits = len(bin(self.max)) - 2\n",
    "        self.target = randint(self.min, self.max)\n",
    "        self.mutate_rate = mutate_rate\n",
    "        self.max_flip_rate = max_flip_rate\n",
    "        self.gen_survival_range = gen_survival_range\n",
    "        self.gen_size = gen_size\n",
    "        self.population = [bin(randint(self.min, self.max)) for _ in range(self.gen_size)]\n",
    "\n",
    "        print(f\"Trying numbers between {self.min} and {self.max} ({self.n_bits} bits).\")\n",
    "        print(f\"We are looking for {self.target} ({bin(self.target)}).\")\n",
    "        print(f\"Generation size is {self.gen_size}.\")\n",
    "\n",
    "    def fitness(self, x):\n",
    "        return -abs(int(x, base=0) - self.target)\n",
    "\n",
    "    def step(self):\n",
    "        \"\"\"Steps one generation ahead.\"\"\"\n",
    "        scores = [{\"string\": x, \"fitness\": self.fitness(x)} for x in self.population]\n",
    "        scores.sort(key=lambda x: x[\"fitness\"], reverse=True)\n",
    "\n",
    "        # If the correct string has been found, return it.\n",
    "        if scores[0][\"fitness\"] == 0:\n",
    "            return scores[0][\"string\"]\n",
    "\n",
    "        # Pick a random number of the best individuals.\n",
    "        min_survival, max_survival = self.gen_survival_range\n",
    "        random_best_scores = scores[: randint(int(min_survival * self.gen_size), int(max_survival * self.gen_size)) - 1]\n",
    "        next_generation = [s[\"string\"] for s in random_best_scores]\n",
    "\n",
    "        # Combine the existing individuals into new ones to fill next generation.\n",
    "        while self.gen_size > len(next_generation):\n",
    "            x1, x2 = sample(next_generation, 2)\n",
    "            next_generation.append(self.combine(x1, x2))\n",
    "\n",
    "        # Mutate the population (mutate_rate determines how many get mutated).\n",
    "        for i in range(len(next_generation)):\n",
    "            if i > int(self.gen_size * self.mutate_rate):\n",
    "                next_generation[i] = self.mutate(next_generation[i])\n",
    "\n",
    "        self.population = next_generation\n",
    "\n",
    "    def combine(self, x1, x2):\n",
    "        \"\"\"Combine binary numbers by randomly picking digits from the two numbers.\"\"\"\n",
    "        x1, x2 = self.uniform_length(x1), self.uniform_length(x2)\n",
    "        return \"\".join([x1[i] if random() < 0.5 else x2[i] for i in range(len(x1))])\n",
    "\n",
    "    def mutate(self, x):\n",
    "        \"\"\"Flips a random number of bits at random indexes up to the limit defined by self.max_change_rate.\"\"\"\n",
    "        x = list(self.uniform_length(x))\n",
    "\n",
    "        n_mut = randint(0, int(self.n_bits * self.max_flip_rate))  # At most int(flip n_bits * max_mut_rate)\n",
    "        flip_indexes = sample(range(2, self.n_bits + 2), n_mut)  # Get n_mut random indexes (string starts with 0b)\n",
    "\n",
    "        for i in flip_indexes:\n",
    "            x[i] = \"1\" if (x[i] == \"0\") else \"0\"\n",
    "\n",
    "        return \"\".join(x)\n",
    "\n",
    "    def uniform_length(self, x):\n",
    "        \"\"\"Returns the byte string with leading zeros so the length is uniform.\"\"\"\n",
    "        return format(int(x, base=0), f\"#0{self.n_bits + 2}b\")\n",
    "        \n",
    "\n",
    "be = BinaryEvolution()\n",
    "\n",
    "for i in range(100):\n",
    "    print(f\"Step {i + 1}: best fitness = {be.fitness(be.population[0])}\")\n",
    "\n",
    "    result = be.step()\n",
    "\n",
    "    if result is not None:\n",
    "        print(f\"{be.target} => {result[2:]} was found after {i + 1} steps.\")\n",
    "        break\n"
   ]
  }
 ],
 "metadata": {
  "kernelspec": {
   "display_name": "Python 3.9.1 64-bit",
   "language": "python",
   "name": "python3"
  },
  "language_info": {
   "codemirror_mode": {
    "name": "ipython",
    "version": 3
   },
   "file_extension": ".py",
   "mimetype": "text/x-python",
   "name": "python",
   "nbconvert_exporter": "python",
   "pygments_lexer": "ipython3",
   "version": "3.9.1"
  },
  "orig_nbformat": 4,
  "vscode": {
   "interpreter": {
    "hash": "11938c6bc6919ae2720b4d5011047913343b08a43b18698fd82dedb0d4417594"
   }
  }
 },
 "nbformat": 4,
 "nbformat_minor": 2
}
