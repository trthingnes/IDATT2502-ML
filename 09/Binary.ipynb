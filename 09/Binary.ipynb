{
 "cells": [
  {
   "cell_type": "code",
   "execution_count": 3,
   "metadata": {},
   "outputs": [],
   "source": [
    "from random import randint"
   ]
  },
  {
   "cell_type": "code",
   "execution_count": 28,
   "metadata": {},
   "outputs": [
    {
     "name": "stdout",
     "output_type": "stream",
     "text": [
      "Trying numbers between 0 and 8 (4 bits).\n",
      "We are looking for 0 (0b0).\n",
      "Generation size is 4.\n",
      "['0b1', '0b101', '0b101', '0b101'] [-1, -5, -5, -5]\n"
     ]
    }
   ],
   "source": [
    "class BinaryEvolution():\n",
    "    def __init__(self, number_range=(0, 8), generation_size=4):\n",
    "        self.min, self.max = number_range\n",
    "        self.n_bits = len(bin(self.max)) - 2\n",
    "        self.target = randint(self.min, self.max)\n",
    "        self.generation_size = generation_size\n",
    "        self.population = [bin(randint(self.min, self.max)) for _ in range(self.generation_size)]\n",
    "\n",
    "        print(f\"Trying numbers between {self.min} and {self.max} ({self.n_bits} bits).\")\n",
    "        print(f\"We are looking for {self.target} ({bin(self.target)}).\")\n",
    "        print(f\"Generation size is {self.generation_size}.\")\n",
    "\n",
    "    def fitness(self, x):\n",
    "        return -abs(int(x, base=0) - self.target)\n",
    "\n",
    "    def step(self):\n",
    "        scores = zip(self.population, [self.fitness(x) for x in self.population])\n",
    "        scores.\n",
    "\n",
    "        \n",
    "\n",
    "be = BinaryEvolution().step()"
   ]
  }
 ],
 "metadata": {
  "kernelspec": {
   "display_name": "Python 3.9.1 64-bit",
   "language": "python",
   "name": "python3"
  },
  "language_info": {
   "codemirror_mode": {
    "name": "ipython",
    "version": 3
   },
   "file_extension": ".py",
   "mimetype": "text/x-python",
   "name": "python",
   "nbconvert_exporter": "python",
   "pygments_lexer": "ipython3",
   "version": "3.9.1"
  },
  "orig_nbformat": 4,
  "vscode": {
   "interpreter": {
    "hash": "11938c6bc6919ae2720b4d5011047913343b08a43b18698fd82dedb0d4417594"
   }
  }
 },
 "nbformat": 4,
 "nbformat_minor": 2
}
